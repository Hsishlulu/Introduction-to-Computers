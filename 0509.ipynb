{
  "nbformat": 4,
  "nbformat_minor": 0,
  "metadata": {
    "colab": {
      "name": "0509.ipynb",
      "provenance": [],
      "authorship_tag": "ABX9TyMMvMMJxoLwfyCVuV1IZYzw",
      "include_colab_link": true
    },
    "kernelspec": {
      "name": "python3",
      "display_name": "Python 3"
    },
    "language_info": {
      "name": "python"
    }
  },
  "cells": [
    {
      "cell_type": "markdown",
      "metadata": {
        "id": "view-in-github",
        "colab_type": "text"
      },
      "source": [
        "<a href=\"https://colab.research.google.com/github/Hsishlulu/Introduction-to-Computers/blob/main/0509.ipynb\" target=\"_parent\"><img src=\"https://colab.research.google.com/assets/colab-badge.svg\" alt=\"Open In Colab\"/></a>"
      ]
    },
    {
      "cell_type": "code",
      "execution_count": 2,
      "metadata": {
        "colab": {
          "base_uri": "https://localhost:8080/"
        },
        "id": "UijRcUeB7twK",
        "outputId": "bad5bbbe-c352-4f64-cd20-15e0c62976ca"
      },
      "outputs": [
        {
          "output_type": "stream",
          "name": "stdout",
          "text": [
            "請輸入你的體溫36\n",
            "體溫正常!\n"
          ]
        }
      ],
      "source": [
        "tem=float(input(\"請輸入你的體溫\"))\n",
        "if tem>=37.5:\n",
        "  print(\"體溫過高!\")\n",
        "elif tem>=37 and tem<37.4:\n",
        "  print(\"體溫略高!\")\n",
        "elif tem>=34 and tem<36.9:\n",
        "  print(\"體溫正常!\")\n",
        "else:\n",
        "  print(\"體溫異常，請重新量測!\")"
      ]
    },
    {
      "cell_type": "code",
      "source": [
        "score=int(input(\"請輸入成績\"))\n",
        "if score>=90:\n",
        "  print(\"A\")\n",
        "elif score>=80 and score<=89:\n",
        "  print(\"B\")\n",
        "elif score>=70 and score<=79:\n",
        "  print(\"C\")\n",
        "elif score>=60 and score<=69:\n",
        "  print(\"D\")\n",
        "else:\n",
        "  print(\"E\")\n",
        "\n",
        "score=int(input(\"請輸入成績\"))\n",
        "if score>=90:\n",
        "  print(\"A\")\n",
        "elif score>=80 and score<=89:\n",
        "  print(\"B\")\n",
        "elif score>=70 and score<=79:\n",
        "  print(\"C\")\n",
        "elif score>=60 and score<=69:\n",
        "  print(\"D\")\n",
        "else:\n",
        "  print(\"E\")\n",
        "\n",
        "score=int(input(\"請輸入成績\"))\n",
        "if score>=90:\n",
        "  print(\"A\")\n",
        "elif score>=80 and score<=89:\n",
        "  print(\"B\")\n",
        "elif score>=70 and score<=79:\n",
        "  print(\"C\")\n",
        "elif score>=60 and score<=69:\n",
        "  print(\"D\")\n",
        "else:\n",
        "  print(\"E\")"
      ],
      "metadata": {
        "colab": {
          "base_uri": "https://localhost:8080/"
        },
        "id": "xcQyql9zACQu",
        "outputId": "fd928d62-5610-4287-f844-a9026364cfff"
      },
      "execution_count": 6,
      "outputs": [
        {
          "output_type": "stream",
          "name": "stdout",
          "text": [
            "請輸入成績90\n",
            "A\n",
            "請輸入成績80\n",
            "B\n",
            "請輸入成績50\n",
            "E\n"
          ]
        }
      ]
    },
    {
      "cell_type": "code",
      "source": [
        "money=int(input(\"請輸入購物金額:\"))\n",
        "if (money>=10000):\n",
        "  if(money>=100000):\n",
        "    print(\"八折\",money*0.8,end=\"元\\n\")\n",
        "  elif (money>=50000):\n",
        "    print(\"八五折\",money*0.85,end=\"元\\n\")\n",
        "  elif (money>=30000):\n",
        "    print(\"九折\",money*0.9,end=\"元\\n\")\n",
        "  else:\n",
        "    print(\"九五折\",money*0.95,end=\"元\\n\")\n",
        "else:\n",
        "  print(\"沒打折\",money,end=\"元\\n\")\n"
      ],
      "metadata": {
        "colab": {
          "base_uri": "https://localhost:8080/"
        },
        "id": "wSq0AQhiE56A",
        "outputId": "e413d594-deff-490e-cd4e-76fc7bceb91b"
      },
      "execution_count": 11,
      "outputs": [
        {
          "output_type": "stream",
          "name": "stdout",
          "text": [
            "請輸入購物金額:30000\n",
            "九折 27000.0元\n"
          ]
        }
      ]
    },
    {
      "cell_type": "code",
      "source": [
        "season=int(input(\"請輸入月份\"))\n",
        "if season<=12:\n",
        "  if season>=3 and season<=5:\n",
        "    print(season,str(\"月是春天\"))\n",
        "  elif season>=6 and season<=8:\n",
        "    print(season,str(\"月是夏天\"))\n",
        "  elif season>=9 and season<=11:\n",
        "    print(season,str(\"月是秋天\"))\n",
        "  else:\n",
        "    print(season,str(\"月是冬天\"))\n",
        "else:\n",
        "  print(\"月份不在範圍內\")\n"
      ],
      "metadata": {
        "colab": {
          "base_uri": "https://localhost:8080/"
        },
        "id": "UGWY4kKpH7lJ",
        "outputId": "1a38e262-2bca-4cf6-b44c-68241fc2ab4a"
      },
      "execution_count": 21,
      "outputs": [
        {
          "output_type": "stream",
          "name": "stdout",
          "text": [
            "請輸入月份2\n",
            "2 月是冬天\n"
          ]
        }
      ]
    },
    {
      "cell_type": "code",
      "source": [
        "tax=float(input(\"請輸入今年收入淨額:\"))\n",
        "if tax>=2000000:\n",
        "  print(\"付稅金額:\",tax*0.3,end=\"元\\n\")\n",
        "elif tax>=1000000:\n",
        "  print(\"付稅金額:\",tax*0.21,end=\"元\\n\")\n",
        "elif tax>=600000:\n",
        "  print(\"付稅金額:\",tax*0.13,end=\"元\\n\")\n",
        "elif tax>=300000:\n",
        "  print(\"付稅金額:\",tax*0.06,end=\"元\\n\")\n",
        "else:\n",
        "  print(\"付稅金額:0元\")"
      ],
      "metadata": {
        "colab": {
          "base_uri": "https://localhost:8080/"
        },
        "id": "2Me5vcYxKHu0",
        "outputId": "128eaa42-f44a-42c9-f7f3-48185af83cee"
      },
      "execution_count": 23,
      "outputs": [
        {
          "output_type": "stream",
          "name": "stdout",
          "text": [
            "請輸入今年收入淨額:20000000\n",
            "付稅金額: 6000000.0元\n"
          ]
        }
      ]
    }
  ]
}